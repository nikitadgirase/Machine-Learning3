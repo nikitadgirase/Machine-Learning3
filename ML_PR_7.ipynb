{
 "cells": [
  {
   "cell_type": "code",
   "execution_count": 1,
   "id": "a56bca00",
   "metadata": {},
   "outputs": [
    {
     "name": "stdout",
     "output_type": "stream",
     "text": [
      "Dealers hand:\n",
      "5\n",
      "Total:5\n",
      "\n",
      "Players hand:\n",
      "8,4\n",
      "Total:5\n",
      "\n",
      "Hit or Stand?hit\n",
      "You hit a 7\n",
      "\n",
      "dealer hit a 6\n",
      "\n",
      "Tie!\n"
     ]
    }
   ],
   "source": [
    "import random\n",
    "deck=[\"A\",\"2\",\"3\",\"4\",\"5\",\"6\",\"7\",\"8\",\"9\",\"10\",\"10\",\"10\",\"10\"]*4;random.shuffle(deck);playerHand=[];dealerHand=[]\n",
    "def deal():\n",
    "    return deck.pop(0)\n",
    "def total(hand):\n",
    "    isAce=False;totalValue=0\n",
    "    for card in hand:\n",
    "        if card !=\"A\":\n",
    "            totalValue+=int(card)\n",
    "        else:\n",
    "            isAce=True;totalValue+=11\n",
    "    if totalValue>21 and isAce:\n",
    "        totalValue-=10\n",
    "    return totalValue\n",
    "playerHand.append(deal());dealerHand.append(deal());playerHand.append(deal())\n",
    "while True:\n",
    "    print(f\"Dealers hand:\\n{','.join(dealerHand)}\\nTotal:{total(dealerHand)}\\n\");print(f\"Players hand:\\n{','.join(playerHand)}\\nTotal:{total(dealerHand)}\\n\")\n",
    "    action=input(\"Hit or Stand?\")\n",
    "    if action==\"hit\" or action==\"Hit\":\n",
    "        playerHand.append(deal());print(f\"You hit a {playerHand[-1]}\\n\")\n",
    "    else:\n",
    "        print(\"You Stand.\")\n",
    "    if total(dealerHand)>=17 and total(dealerHand)>total(playerHand):\n",
    "        print(\"Dealer Stand \")\n",
    "    else:\n",
    "        dealerHand.append(deal())\n",
    "        print(f\"dealer hit a {dealerHand[-1]}\\n\")\n",
    "    if total(playerHand)>21:\n",
    "        print(\"Bust! Dealer Won!\")\n",
    "        break\n",
    "    elif total(dealerHand)>21:\n",
    "        print(\"Bust! You Won!\")\n",
    "        break\n",
    "    if total(playerHand)>total(playerHand):\n",
    "        print(\"You win !\")\n",
    "        break\n",
    "    elif total(dealerHand)>total(playerHand):\n",
    "        print(\"Dealers win !\");break\n",
    "    else:\n",
    "        print(\"Tie!\");break      "
   ]
  },
  {
   "cell_type": "code",
   "execution_count": null,
   "id": "97044c10",
   "metadata": {},
   "outputs": [],
   "source": []
  }
 ],
 "metadata": {
  "kernelspec": {
   "display_name": "Python 3 (ipykernel)",
   "language": "python",
   "name": "python3"
  },
  "language_info": {
   "codemirror_mode": {
    "name": "ipython",
    "version": 3
   },
   "file_extension": ".py",
   "mimetype": "text/x-python",
   "name": "python",
   "nbconvert_exporter": "python",
   "pygments_lexer": "ipython3",
   "version": "3.11.0"
  }
 },
 "nbformat": 4,
 "nbformat_minor": 5
}
